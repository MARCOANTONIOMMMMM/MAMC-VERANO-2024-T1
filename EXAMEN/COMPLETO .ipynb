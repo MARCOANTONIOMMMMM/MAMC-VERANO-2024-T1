{
 "cells": [
  {
   "cell_type": "code",
   "execution_count": null,
   "metadata": {},
   "outputs": [],
   "source": [
    "# Graficos normales\n",
    "import FuncionesG.Barras as DiagramaBarras\n",
    "import FuncionesG.Pie as DiagramaPastel\n",
    "import FuncionesG.Histograma as DiagramaHistograma\n",
    "import FuncionesG.Ojiva as DiagramaOjiva\n",
    "import FuncionesG.Poligonos as DiagramaPoligono\n",
    "\n",
    "# GRAFICO con limites superiores e inferiores\n",
    "import FuncionesG.plotBarras as GraficoBarras\n",
    "import FuncionesG.plotPie as GraficoPastel\n",
    "import FuncionesG.plotHistograma as GraficoHistograma\n",
    "import FuncionesG.plotOjiva as GraficoOjiva\n",
    "import FuncionesG.plotPoligono as GraficoPoligono\n",
    "\n",
    "#Funciones \n",
    "import FUNCIONES.clases_grouped as ClasesAgrupadas\n",
    "import FUNCIONES.clases_str_sort as clas_str_sort\n",
    "import FUNCIONES.fa_grouped as CalcularFABS\n",
    "import FUNCIONES.format_str as FormatearStrings\n",
    "import FUNCIONES.frec_abs as abs\n",
    "import FUNCIONES.frec_acum as FrecAcumulada\n",
    "import FUNCIONES.frec_rel as FrecRelativa\n",
    "import FUNCIONES.ordenar_asc as OrdenarArregloAsendente\n",
    "import FUNCIONES.sort_clases_fa as OrdenarFrecAbsolutas\n",
    "import FUNCIONES.tabla_grouped as TablaCompleta\n",
    "import FUNCIONES.tabla as Tabla4Datos"
   ]
  }
 ],
 "metadata": {
  "language_info": {
   "name": "python"
  }
 },
 "nbformat": 4,
 "nbformat_minor": 2
}
